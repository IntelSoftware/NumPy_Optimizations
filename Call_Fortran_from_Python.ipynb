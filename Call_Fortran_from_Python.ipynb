{
 "cells": [
  {
   "cell_type": "markdown",
   "id": "e9516d37-7ebd-44b9-8375-0f7b010eef30",
   "metadata": {},
   "source": [
    "### How to Call Fortran from Python\n",
    "\n",
    "https://www.matecdev.com/posts/fortran-in-python.html"
   ]
  },
  {
   "cell_type": "code",
   "execution_count": 1,
   "id": "d468f62e-3964-4daf-87ca-85e343932022",
   "metadata": {},
   "outputs": [
    {
     "name": "stdout",
     "output_type": "stream",
     "text": [
      "\u001b[39mrunning build\u001b[0m\n",
      "\u001b[39mrunning config_cc\u001b[0m\n",
      "\u001b[39mINFO: unifing config_cc, config, build_clib, build_ext, build commands --compiler options\u001b[0m\n",
      "\u001b[39mrunning config_fc\u001b[0m\n",
      "\u001b[39mINFO: unifing config_fc, config, build_clib, build_ext, build commands --fcompiler options\u001b[0m\n",
      "\u001b[39mrunning build_src\u001b[0m\n",
      "\u001b[39mINFO: build_src\u001b[0m\n",
      "\u001b[39mINFO: building extension \"myflib\" sources\u001b[0m\n",
      "\u001b[39mINFO: f2py options: []\u001b[0m\n",
      "\u001b[39mINFO: f2py:> /home/u177248/tmp/tmpxeoez9li/src.linux-x86_64-3.9/myflibmodule.c\u001b[0m\n",
      "\u001b[39mcreating /home/u177248/tmp/tmpxeoez9li/src.linux-x86_64-3.9\u001b[0m\n",
      "Reading fortran codes...\n",
      "\tReading file 'my_fortran_lib.f90' (format:free)\n",
      "Post-processing...\n",
      "\tBlock: myflib\n",
      "\t\t\tBlock: foo\n",
      "appenddecl: \"dimension\" not implemented.\n",
      "Applying post-processing hooks...\n",
      "  character_backward_compatibility_hook\n",
      "Post-processing (stage 2)...\n",
      "Building modules...\n",
      "    Building module \"myflib\"...\n",
      "    Generating possibly empty wrappers\"\n",
      "    Maybe empty \"myflib-f2pywrappers2.f90\"\n",
      "    Maybe empty \"myflib-f2pywrappers.f\"\n",
      "\t\tCreating wrapper for Fortran function \"foo\"(\"foo\")...\n",
      "        Constructing wrapper function \"foo\"...\n",
      "          b = foo(a)\n",
      "    Wrote C/API module \"myflib\" to file \"/home/u177248/tmp/tmpxeoez9li/src.linux-x86_64-3.9/myflibmodule.c\"\n",
      "    Fortran 90 wrappers are saved to \"/home/u177248/tmp/tmpxeoez9li/src.linux-x86_64-3.9/myflib-f2pywrappers2.f90\"\n",
      "\u001b[39mINFO:   adding '/home/u177248/tmp/tmpxeoez9li/src.linux-x86_64-3.9/fortranobject.c' to sources.\u001b[0m\n",
      "\u001b[39mINFO:   adding '/home/u177248/tmp/tmpxeoez9li/src.linux-x86_64-3.9' to include_dirs.\u001b[0m\n",
      "\u001b[39mcopying /glob/development-tools/versions/oneapi/2023.2.0.1/oneapi/intelpython/latest/lib/python3.9/site-packages/numpy/f2py/src/fortranobject.c -> /home/u177248/tmp/tmpxeoez9li/src.linux-x86_64-3.9\u001b[0m\n",
      "\u001b[39mcopying /glob/development-tools/versions/oneapi/2023.2.0.1/oneapi/intelpython/latest/lib/python3.9/site-packages/numpy/f2py/src/fortranobject.h -> /home/u177248/tmp/tmpxeoez9li/src.linux-x86_64-3.9\u001b[0m\n",
      "\u001b[39mINFO:   adding '/home/u177248/tmp/tmpxeoez9li/src.linux-x86_64-3.9/myflib-f2pywrappers.f' to sources.\u001b[0m\n",
      "\u001b[39mINFO:   adding '/home/u177248/tmp/tmpxeoez9li/src.linux-x86_64-3.9/myflib-f2pywrappers2.f90' to sources.\u001b[0m\n",
      "\u001b[39mINFO: build_src: building npy-pkg config files\u001b[0m\n",
      "/home/u177248/.local/lib/python3.9/site-packages/setuptools/_distutils/cmd.py:66: SetuptoolsDeprecationWarning: setup.py install is deprecated.\n",
      "!!\n",
      "\n",
      "        ********************************************************************************\n",
      "        Please avoid running ``setup.py`` directly.\n",
      "        Instead, use pypa/build, pypa/installer, pypa/build or\n",
      "        other standards-based tools.\n",
      "\n",
      "        See https://blog.ganssle.io/articles/2021/10/setup-py-deprecated.html for details.\n",
      "        ********************************************************************************\n",
      "\n",
      "!!\n",
      "  self.initialize_options()\n",
      "\u001b[39mrunning build_ext\u001b[0m\n",
      "\u001b[39mINFO: customize UnixCCompiler\u001b[0m\n",
      "\u001b[39mINFO: customize UnixCCompiler using build_ext\u001b[0m\n",
      "\u001b[39mINFO: get_default_fcompiler: matching types: '['arm', 'gnu95', 'intel', 'lahey', 'pg', 'nv', 'absoft', 'nag', 'vast', 'compaq', 'intele', 'intelem', 'gnu', 'g95', 'pathf95', 'nagfor', 'fujitsu']'\u001b[0m\n",
      "\u001b[39mINFO: customize ArmFlangCompiler\u001b[0m\n",
      "\u001b[31mWARN: Could not locate executable armflang\u001b[0m\n",
      "\u001b[39mINFO: customize Gnu95FCompiler\u001b[0m\n",
      "\u001b[39mINFO: Found executable /usr/bin/gfortran\u001b[0m\n",
      "\u001b[39mINFO: customize Gnu95FCompiler\u001b[0m\n",
      "\u001b[39mINFO: customize Gnu95FCompiler using build_ext\u001b[0m\n",
      "\u001b[39mINFO: building 'myflib' extension\u001b[0m\n",
      "\u001b[39mINFO: compiling C sources\u001b[0m\n",
      "\u001b[39mINFO: C compiler: gcc -pthread -B /glob/development-tools/versions/oneapi/2023.2.0.1/oneapi/intelpython/latest/compiler_compat -Wno-unused-result -Wsign-compare -DNDEBUG -fwrapv -O2 -Wall -fPIC -O2 -isystem /glob/development-tools/versions/oneapi/2023.2.0.1/oneapi/intelpython/latest/include -Wformat -Wformat-security -fstack-protector-all -D_FORTIFY_SOURCE=2 -fpic -fPIC -O2 -Wl,-z,noexecstack,-z,relro,-z,now,-rpath,$ORIGIN/../..,-rpath,$ORIGIN/../../.. -fPIC -O2 -isystem /glob/development-tools/versions/oneapi/2023.2.0.1/oneapi/intelpython/latest/include -Wformat -Wformat-security -fstack-protector-all -D_FORTIFY_SOURCE=2 -fpic -fPIC -O2 -Wl,-z,noexecstack,-z,relro,-z,now,-rpath,$ORIGIN/../..,-rpath,$ORIGIN/../../.. -fPIC\n",
      "\u001b[0m\n",
      "\u001b[39mcreating /home/u177248/tmp/tmpxeoez9li/home\u001b[0m\n",
      "\u001b[39mcreating /home/u177248/tmp/tmpxeoez9li/home/u177248\u001b[0m\n",
      "\u001b[39mcreating /home/u177248/tmp/tmpxeoez9li/home/u177248/tmp\u001b[0m\n",
      "\u001b[39mcreating /home/u177248/tmp/tmpxeoez9li/home/u177248/tmp/tmpxeoez9li\u001b[0m\n",
      "\u001b[39mcreating /home/u177248/tmp/tmpxeoez9li/home/u177248/tmp/tmpxeoez9li/src.linux-x86_64-3.9\u001b[0m\n",
      "\u001b[39mINFO: compile options: '-DNPY_DISABLE_OPTIMIZATION=1 -I/home/u177248/tmp/tmpxeoez9li/src.linux-x86_64-3.9 -I/glob/development-tools/versions/oneapi/2023.2.0.1/oneapi/intelpython/latest/lib/python3.9/site-packages/numpy/core/include -I/glob/development-tools/versions/oneapi/2023.2.0.1/oneapi/intelpython/latest/include/python3.9 -c'\u001b[0m\n",
      "\u001b[39mINFO: gcc: /home/u177248/tmp/tmpxeoez9li/src.linux-x86_64-3.9/myflibmodule.c\u001b[0m\n",
      "\u001b[39mINFO: gcc: /home/u177248/tmp/tmpxeoez9li/src.linux-x86_64-3.9/fortranobject.c\u001b[0m\n",
      "\u001b[39mINFO: compiling Fortran sources\u001b[0m\n",
      "\u001b[39mINFO: Fortran f77 compiler: /usr/bin/gfortran -Wall -g -ffixed-form -fno-second-underscore -fPIC -O3 -funroll-loops\n",
      "Fortran f90 compiler: /usr/bin/gfortran -Wall -g -fno-second-underscore -fPIC -O3 -funroll-loops\n",
      "Fortran fix compiler: /usr/bin/gfortran -Wall -g -ffixed-form -fno-second-underscore -Wall -g -fno-second-underscore -fPIC -O3 -funroll-loops\u001b[0m\n",
      "\u001b[39mINFO: compile options: '-I/home/u177248/tmp/tmpxeoez9li/src.linux-x86_64-3.9 -I/glob/development-tools/versions/oneapi/2023.2.0.1/oneapi/intelpython/latest/lib/python3.9/site-packages/numpy/core/include -I/glob/development-tools/versions/oneapi/2023.2.0.1/oneapi/intelpython/latest/include/python3.9 -c'\u001b[0m\n",
      "\u001b[39mINFO: gfortran:f90: my_fortran_lib.f90\u001b[0m\n",
      "\u001b[39mINFO: gfortran:f90: /home/u177248/tmp/tmpxeoez9li/src.linux-x86_64-3.9/myflib-f2pywrappers2.f90\u001b[0m\n",
      "\u001b[39mINFO: gfortran:f77: /home/u177248/tmp/tmpxeoez9li/src.linux-x86_64-3.9/myflib-f2pywrappers.f\u001b[0m\n",
      "\u001b[39mINFO: /usr/bin/gfortran -Wall -g -Wall -g -shared /home/u177248/tmp/tmpxeoez9li/home/u177248/tmp/tmpxeoez9li/src.linux-x86_64-3.9/myflibmodule.o /home/u177248/tmp/tmpxeoez9li/home/u177248/tmp/tmpxeoez9li/src.linux-x86_64-3.9/fortranobject.o /home/u177248/tmp/tmpxeoez9li/my_fortran_lib.o /home/u177248/tmp/tmpxeoez9li/home/u177248/tmp/tmpxeoez9li/src.linux-x86_64-3.9/myflib-f2pywrappers.o /home/u177248/tmp/tmpxeoez9li/home/u177248/tmp/tmpxeoez9li/src.linux-x86_64-3.9/myflib-f2pywrappers2.o -L/usr/lib/gcc/x86_64-linux-gnu/9 -L/usr/lib/gcc/x86_64-linux-gnu/9 -lgfortran -o ./myflib.cpython-39-x86_64-linux-gnu.so\u001b[0m\n",
      "Removing build directory /home/u177248/tmp/tmpxeoez9li\n"
     ]
    }
   ],
   "source": [
    "!f2py3 -c -m myflib my_fortran_lib.f90"
   ]
  },
  {
   "cell_type": "code",
   "execution_count": 2,
   "id": "bcd53283-b4fb-4c69-acaa-52b74e058769",
   "metadata": {},
   "outputs": [
    {
     "data": {
      "text/plain": [
       "array([[ 0.54030231+0.84147098j, -0.41614684+0.90929743j,\n",
       "        -0.9899925 +0.14112001j, -0.65364362-0.7568025j ],\n",
       "       [ 0.28366219-0.95892427j,  0.96017029-0.2794155j ,\n",
       "         0.75390225+0.6569866j , -0.14550003+0.98935825j]])"
      ]
     },
     "execution_count": 2,
     "metadata": {},
     "output_type": "execute_result"
    }
   ],
   "source": [
    "import myflib\n",
    "import numpy as np\n",
    "\n",
    "a = np.array([[1,2,3,4], [5,6,7,8]], order='F')\n",
    "myflib.foo(a)"
   ]
  },
  {
   "cell_type": "code",
   "execution_count": null,
   "id": "b0defccb-29e7-4339-9801-ab5956f765f2",
   "metadata": {},
   "outputs": [],
   "source": []
  }
 ],
 "metadata": {
  "kernelspec": {
   "display_name": "Python 3 (Intel® oneAPI 2023.2)",
   "language": "python",
   "name": "c009-intel_distribution_of_python_3_oneapi-beta05-python"
  },
  "language_info": {
   "codemirror_mode": {
    "name": "ipython",
    "version": 3
   },
   "file_extension": ".py",
   "mimetype": "text/x-python",
   "name": "python",
   "nbconvert_exporter": "python",
   "pygments_lexer": "ipython3",
   "version": "3.9.16"
  }
 },
 "nbformat": 4,
 "nbformat_minor": 5
}
