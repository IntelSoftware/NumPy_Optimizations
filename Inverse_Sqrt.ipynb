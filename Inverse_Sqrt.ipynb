{
 "cells": [
  {
   "cell_type": "markdown",
   "id": "e21c4e00-53fb-444b-aca4-f01ded4efd32",
   "metadata": {},
   "source": [
    "# Reciprocal sqrt\n",
    "\n",
    "https://ajcr.net/fast-inverse-square-root-python/"
   ]
  },
  {
   "cell_type": "code",
   "execution_count": 118,
   "id": "65a93cde-759e-41c5-9aee-ffa40ac11196",
   "metadata": {},
   "outputs": [],
   "source": [
    "rd = '\\033[91m'\n",
    "gr = '\\033[92m'\n",
    "yl = '\\033[93m'\n",
    "bl = '\\033[94m'\n",
    "pk = '\\033[95m'\n",
    "tl = '\\033[96m'\n",
    "gy = '\\033[97m'\n",
    "bk = '\\033[0m'\n",
    "\n",
    "import time\n",
    "import math\n",
    "N =  1_000_000\n",
    "a = [i for i in range(1, N)]\n",
    "b = []\n",
    "timing = {}"
   ]
  },
  {
   "cell_type": "code",
   "execution_count": 119,
   "id": "2352e6c4-fa6b-49ff-8607-391ec916e217",
   "metadata": {},
   "outputs": [
    {
     "name": "stdout",
     "output_type": "stream",
     "text": [
      "elapsed \u001b[91m16,121,955.3 iter/sec\u001b[0m\n"
     ]
    },
    {
     "data": {
      "text/plain": [
       "[1.0, 0.7071067811865475, 0.5773502691896258, 0.5, 0.4472135954999579]"
      ]
     },
     "execution_count": 119,
     "metadata": {},
     "output_type": "execute_result"
    }
   ],
   "source": [
    "t1 = time.time()\n",
    "b = [1.0/math.sqrt(x) for x in a]\n",
    "t2 = time.time()\n",
    "timing[f'BruteForceLoopExact'] = N/(t2-t1)\n",
    "print(f\"elapsed {rd}{N/(t2-t1):,.1f} iter/sec{bk}\")\n",
    "b[:5]  # aproximate answer"
   ]
  },
  {
   "cell_type": "markdown",
   "id": "f6e34d2b-7c81-4786-ba99-913ee8f7ffe6",
   "metadata": {},
   "source": [
    "# Apply imprecise Newton Fast approx\n",
    "\n",
    "Adapted from wikipedia article about fast inverse square root\n",
    "\n",
    "- [Wikipedia:_Fast_inverse_square_root](https://en.wikipedia.org/wiki/Fast_inverse_square_root)\n",
    "\n",
    "And excellent blog write up by ajcr\n",
    "- [acjr.net:The_Fast_Inverse_Square_Root_method_in_Python](https://ajcr.net/fast-inverse-square-root-python/)\n",
    "- This article, after comparing several mehtods for computing reciprocal sqrt on **single value** recommends just using:\n",
    "```python\n",
    "a**-.5\n",
    "```\n",
    "\n",
    "Lets try vectorizing this function which **appoximates reciprocal sqrt using newton method**"
   ]
  },
  {
   "cell_type": "code",
   "execution_count": 120,
   "id": "bf15e052-25ca-4125-9106-47c48b03199c",
   "metadata": {},
   "outputs": [],
   "source": [
    "from ctypes import c_float, c_int32, cast, byref, POINTER\n",
    "import time\n",
    "\n",
    "def ctypes_isqrt(number):  # operates on single value at a time\n",
    "    threehalfs = 1.5\n",
    "    x2 = number * 0.5\n",
    "    y = c_float(number)\n",
    "\n",
    "    i = cast(byref(y), POINTER(c_int32)).contents.value\n",
    "    i = c_int32(0x5f3759df - (i >> 1))\n",
    "    y = cast(byref(i), POINTER(c_float)).contents.value\n",
    "\n",
    "    y = y * (1.5 - (x2 * y * y))\n",
    "    return y"
   ]
  },
  {
   "cell_type": "code",
   "execution_count": 121,
   "id": "be543ec0-d100-485b-b811-74c836d186f5",
   "metadata": {},
   "outputs": [
    {
     "name": "stdout",
     "output_type": "stream",
     "text": [
      "Can't handle list or ndarray - just single value\n"
     ]
    }
   ],
   "source": [
    "try:\n",
    "    b = ctypes_isqrt(a)\n",
    "except:\n",
    "    print(\"Can't handle list or ndarray - just single value\")"
   ]
  },
  {
   "cell_type": "code",
   "execution_count": 122,
   "id": "44e73cbe-7833-4640-8f2b-0e2276ece1d1",
   "metadata": {},
   "outputs": [
    {
     "name": "stdout",
     "output_type": "stream",
     "text": [
      "elapsed \u001b[91m724,303.3 iter/sec\u001b[0m\n"
     ]
    },
    {
     "data": {
      "text/plain": [
       "[0.9983071495847821,\n",
       " 0.7069300386983334,\n",
       " 0.576846835782431,\n",
       " 0.49915357479239103,\n",
       " 0.4471410099094477]"
      ]
     },
     "execution_count": 122,
     "metadata": {},
     "output_type": "execute_result"
    }
   ],
   "source": [
    "t1 = time.time()\n",
    "b = []\n",
    "for i in range(1,  N ):\n",
    "    b.append(ctypes_isqrt(i))\n",
    "t2 = time.time()\n",
    "timing[f'FRSNewtonLoop'] = N/(t2-t1)\n",
    "print(f\"elapsed {rd}{N/(t2-t1):,.1f} iter/sec{bk}\")\n",
    "b[:5]  # aproximate answer"
   ]
  },
  {
   "cell_type": "markdown",
   "id": "fb68d489-0fa0-46cb-bfde-b49143a9c284",
   "metadata": {},
   "source": [
    "# Assume we will do NumPy coversion \n",
    "\n",
    "for rest of cells in notebook"
   ]
  },
  {
   "cell_type": "code",
   "execution_count": 123,
   "id": "c8a6d604-51d0-41d7-8267-2b9f8cb111c3",
   "metadata": {},
   "outputs": [],
   "source": [
    "import time\n",
    "import numpy as np\n",
    "\n",
    "a = np.array([i for i in range(1,     N)])\n",
    "a = np.expand_dims(a, axis = 0)  # make the array the right sahpe for use by apply"
   ]
  },
  {
   "cell_type": "markdown",
   "id": "3c66b316-5c94-427a-8f26-69c54850938d",
   "metadata": {},
   "source": [
    "### NumPy apply (vectorize along axis)"
   ]
  },
  {
   "cell_type": "code",
   "execution_count": 124,
   "id": "bcc2d243-47cb-4c4a-83a0-4cc1255d4461",
   "metadata": {},
   "outputs": [
    {
     "name": "stdout",
     "output_type": "stream",
     "text": [
      "elapsed \u001b[91m190,281.8 iter/sec\u001b[0m\n"
     ]
    },
    {
     "data": {
      "text/plain": [
       "array([[9.98307150e-01, 7.06930039e-01, 5.76846836e-01, ...,\n",
       "        9.98306080e-04, 9.98305582e-04, 9.98305085e-04]])"
      ]
     },
     "execution_count": 124,
     "metadata": {},
     "output_type": "execute_result"
    }
   ],
   "source": [
    "t1 = time.time()\n",
    "b = np.apply_along_axis(ctypes_isqrt, 0, a)\n",
    "t2 = time.time()\n",
    "timing['FRSNewtonVectorize'] = N/(t2-t1)\n",
    "print(f\"elapsed {rd}{N/(t2-t1):,.1f} iter/sec{bk}\")\n",
    "b[:5]  # aproximate answer"
   ]
  },
  {
   "cell_type": "markdown",
   "id": "d0f47004-d7d6-42e0-a2ec-c7de4ba6da36",
   "metadata": {},
   "source": [
    "# Cython Newton Approximation Method\n",
    "\n",
    "https://cython.readthedocs.io/en/latest/src/tutorial/cython_tutorial.html"
   ]
  },
  {
   "cell_type": "code",
   "execution_count": 125,
   "id": "0ddbc0bf-8102-44f1-bab5-3ba359cd77a5",
   "metadata": {},
   "outputs": [],
   "source": [
    "import numpy as np\n",
    "a = np.array([i for i in range(1, N)])\n",
    "a = np.expand_dims(a, axis = 0)  # make the array the right sahpe for use by apply\n"
   ]
  },
  {
   "cell_type": "markdown",
   "id": "32d1534a-17d8-43b6-ab39-5fa0b61903ea",
   "metadata": {},
   "source": [
    "### Time compute for single value"
   ]
  },
  {
   "cell_type": "code",
   "execution_count": 126,
   "id": "9dbf04a3-0fa8-4af2-b65e-630dce28be66",
   "metadata": {},
   "outputs": [
    {
     "name": "stdout",
     "output_type": "stream",
     "text": [
      "estimate 1/sqrt(16) 0.24957678739619552\n",
      "elapsed single calc 0.0 sec\n"
     ]
    }
   ],
   "source": [
    "from cython_NewtonRecipSqrt import ctypes_nbsqrt\n",
    "t1 = time.time()\n",
    "print(\"estimate 1/sqrt(16)\", ctypes_nbsqrt(16) ) # FOr a single value\n",
    "t2 = time.time()\n",
    "print(f\"elapsed single calc {(t2-t1):,.1f} sec\")\n"
   ]
  },
  {
   "cell_type": "code",
   "execution_count": 127,
   "id": "7ad208ae-d24a-4f59-949f-fd9090c75357",
   "metadata": {},
   "outputs": [
    {
     "name": "stdout",
     "output_type": "stream",
     "text": [
      "elapsed \u001b[91m169,960.6 iter/sec\u001b[0m\n"
     ]
    },
    {
     "data": {
      "text/plain": [
       "array([[9.98307150e-01, 7.06930039e-01, 5.76846836e-01, ...,\n",
       "        9.98306080e-04, 9.98305582e-04, 9.98305085e-04]])"
      ]
     },
     "execution_count": 127,
     "metadata": {},
     "output_type": "execute_result"
    }
   ],
   "source": [
    "t1 = time.time()\n",
    "b = np.apply_along_axis(ctypes_nbsqrt, 0, a)\n",
    "t2 = time.time()\n",
    "timing['CythonFRSNewtonApply'] = N/(t2-t1)\n",
    "print(f\"elapsed {rd}{N/(t2-t1):,.1f} iter/sec{bk}\")\n",
    "b[:5]  # aproximate answer"
   ]
  },
  {
   "cell_type": "code",
   "execution_count": 128,
   "id": "2791428c-8c37-4e3f-a94a-704443720801",
   "metadata": {},
   "outputs": [],
   "source": [
    "# ctypes_isqrt(a)   #error"
   ]
  },
  {
   "cell_type": "markdown",
   "id": "f608d25b-5033-4fed-9d42-e7e8dea923a1",
   "metadata": {},
   "source": [
    "# Cython Exact  Method\n",
    "\n",
    "```python\n",
    "y = x**-5\n",
    "```"
   ]
  },
  {
   "cell_type": "code",
   "execution_count": 129,
   "id": "0affc888-865d-49b4-8c6e-5be1ca6298ad",
   "metadata": {},
   "outputs": [],
   "source": [
    "from cython_Exact import ctypes_Exsqrt\n"
   ]
  },
  {
   "cell_type": "code",
   "execution_count": 130,
   "id": "a2009e42-a7d4-493b-a707-e18ba3028d67",
   "metadata": {},
   "outputs": [
    {
     "name": "stdout",
     "output_type": "stream",
     "text": [
      "elapsed \u001b[92m90,316,623.6 iter/sec\u001b[0m\n"
     ]
    },
    {
     "data": {
      "text/plain": [
       "array([[1.        , 0.70710678, 0.57735027, ..., 0.001     , 0.001     ,\n",
       "        0.001     ]])"
      ]
     },
     "execution_count": 130,
     "metadata": {},
     "output_type": "execute_result"
    }
   ],
   "source": [
    "t1 = time.time()\n",
    "b = ctypes_Exsqrt(a)\n",
    "t2 = time.time()\n",
    "timing['CythonExact'] = N/(t2-t1)\n",
    "print(f\"elapsed {gr}{N/(t2-t1):,.1f} iter/sec{bk}\")\n",
    "b[:5]  # aproximate answer"
   ]
  },
  {
   "cell_type": "markdown",
   "id": "2d82f53d-e862-4c40-8452-7d5c14c8a83c",
   "metadata": {},
   "source": [
    "# Numba Exact approach\n",
    "https://numba.pydata.org/numba-doc/latest/user/jit.html"
   ]
  },
  {
   "cell_type": "code",
   "execution_count": 131,
   "id": "5ef22b29-b7d8-4de0-97ea-977194acf601",
   "metadata": {},
   "outputs": [],
   "source": [
    "import numba\n",
    "import numpy as np\n",
    "N = 100_000_000\n",
    "a = np.array([i for i in range(1, N)])\n",
    "#a = np.expand_dims(a, axis = 0)  # make the array the right sahpe for use by apply\n",
    "\n",
    "@numba.njit\n",
    "def ctypes_nbsqrt(number):  # operates on single value at a time\n",
    "  return number ** -0.5"
   ]
  },
  {
   "cell_type": "code",
   "execution_count": 132,
   "id": "7d37997a-9485-4ee1-add9-8dd4e62a45ff",
   "metadata": {},
   "outputs": [
    {
     "name": "stdout",
     "output_type": "stream",
     "text": [
      "elapsed \u001b[92m105,971,974.8 iter/sec\u001b[0m\n"
     ]
    },
    {
     "data": {
      "text/plain": [
       "array([[1.        , 0.70710678, 0.57735027, ..., 0.001     , 0.001     ,\n",
       "        0.001     ]])"
      ]
     },
     "execution_count": 132,
     "metadata": {},
     "output_type": "execute_result"
    }
   ],
   "source": [
    "t1 = time.time()\n",
    "ctypes_nbsqrt(a)\n",
    "t2 = time.time()\n",
    "timing['ExactNumba'] = N/(t2-t1)\n",
    "print(f\"elapsed {gr}{N/(t2-t1):,.1f} iter/sec{bk}\")\n",
    "b[:5]  # aproximate answer"
   ]
  },
  {
   "cell_type": "markdown",
   "id": "98e1be99-b5f6-4fbc-9fa6-81a4ddec9fba",
   "metadata": {},
   "source": [
    "# Assume we have converted \"a\" to NumPy"
   ]
  },
  {
   "cell_type": "code",
   "execution_count": 133,
   "id": "eef97e77-e0f6-4b17-8b18-9684bbae81c2",
   "metadata": {},
   "outputs": [],
   "source": [
    "import numpy as np\n",
    "a = np.array([i for i in range(1, N)])"
   ]
  },
  {
   "cell_type": "markdown",
   "id": "486e5d2f-ac69-46ea-b2da-dbcecbb5735a",
   "metadata": {},
   "source": [
    "### Compose NumPy reciprocal and NumPy sqrt"
   ]
  },
  {
   "cell_type": "code",
   "execution_count": 134,
   "id": "85970865-42f8-4b06-a0e1-eaa710450cee",
   "metadata": {},
   "outputs": [
    {
     "name": "stdout",
     "output_type": "stream",
     "text": [
      "elapsed \u001b[92m500,196,653.4 iter/sec\u001b[0m\n"
     ]
    },
    {
     "data": {
      "text/plain": [
       "array([1.        , 0.70710678, 0.57735027, 0.5       , 0.4472136 ])"
      ]
     },
     "execution_count": 134,
     "metadata": {},
     "output_type": "execute_result"
    }
   ],
   "source": [
    "t1 = time.time()\n",
    "b = np.reciprocal(np.sqrt(a))\n",
    "t2 = time.time()\n",
    "timing['ExactNP_recipSqrt'] = N/(t2-t1)\n",
    "print(f\"elapsed {gr}{N/(t2-t1):,.1f} iter/sec{bk}\")\n",
    "b[:5]  # aproximate answer"
   ]
  },
  {
   "cell_type": "markdown",
   "id": "2d203564-4d74-4b4e-9490-bc8ae41d59e5",
   "metadata": {},
   "source": [
    "# Simple minded a**-.5"
   ]
  },
  {
   "cell_type": "code",
   "execution_count": 135,
   "id": "31a2b6ea-0400-4b63-814a-b84ce5546a61",
   "metadata": {},
   "outputs": [
    {
     "name": "stdout",
     "output_type": "stream",
     "text": [
      "elapsed \u001b[92m97,695,676.5 iter/sec\u001b[0m\n"
     ]
    },
    {
     "data": {
      "text/plain": [
       "array([1.        , 0.70710678, 0.57735027, 0.5       , 0.4472136 ])"
      ]
     },
     "execution_count": 135,
     "metadata": {},
     "output_type": "execute_result"
    }
   ],
   "source": [
    "t1 = time.time()\n",
    "b = a**-.5\n",
    "t2 = time.time()\n",
    "timing['ExactNP_a**-.5'] = N/(t2-t1)\n",
    "print(f\"elapsed {gr}{N/(t2-t1):,.1f} iter/sec{bk}\")\n",
    "b[:5]  # aproximate answer"
   ]
  },
  {
   "cell_type": "code",
   "execution_count": 136,
   "id": "b529adb7-024c-4b0d-936c-a88a67e8238c",
   "metadata": {},
   "outputs": [
    {
     "name": "stdout",
     "output_type": "stream",
     "text": [
      "Speedup : 2943 X\n"
     ]
    },
    {
     "data": {
      "image/png": "[encoded data removed]",
      "text/plain": [
       "<Figure size 1000x600 with 1 Axes>"
      ]
     },
     "metadata": {},
     "output_type": "display_data"
    }
   ],
   "source": [
    "%matplotlib inline\n",
    "import matplotlib.pyplot as plt\n",
    "plt.figure(figsize=(10,6))\n",
    "plt.title(\"Plot of various method of applying Reciprocal Sqrt [Higher is better]\")\n",
    "plt.ylabel(\"Iterations per second\",fontsize=12)\n",
    "plt.xlabel(\"Various types of operations\",fontsize=14)\n",
    "plt.grid(True)\n",
    "plt.yscale('log')\n",
    "plt.xticks(rotation=-60)\n",
    "timingH = dict(sorted(timing.items(), key=lambda x:x[1], reverse=True))\n",
    "plt.bar(x = range(len(timingH)), height=timingH.values(), align='center', tick_label=list(timingH.keys()))\n",
    "short = min(list(timingH.values()))\n",
    "long = max(list(timingH.values()))\n",
    "print('Speedup : {:4.0f} X'.format(long/short))"
   ]
  },
  {
   "cell_type": "code",
   "execution_count": null,
   "id": "fda50768-8820-4321-bcf1-d7395ecf7039",
   "metadata": {},
   "outputs": [],
   "source": []
  }
 ],
 "metadata": {
  "kernelspec": {
   "display_name": "Python 3 (ipykernel)",
   "language": "python",
   "name": "python3"
  },
  "language_info": {
   "codemirror_mode": {
    "name": "ipython",
    "version": 3
   },
   "file_extension": ".py",
   "mimetype": "text/x-python",
   "name": "python",
   "nbconvert_exporter": "python",
   "pygments_lexer": "ipython3",
   "version": "3.10.11"
  }
 },
 "nbformat": 4,
 "nbformat_minor": 5
}
